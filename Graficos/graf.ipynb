{
 "cells": [
  {
   "cell_type": "code",
   "execution_count": null,
   "metadata": {},
   "outputs": [],
   "source": [
    "# Passo 1: Importar a base de dados\n",
    "\n",
    "import pandas as pd\n",
    "\n",
    "tabela = pd.read_csv('cancelamentos.csv')\n"
   ]
  },
  {
   "cell_type": "code",
   "execution_count": null,
   "metadata": {},
   "outputs": [],
   "source": [
    "# Passo 2: Visualizar a base de dados (entender a base e identificar os problemas)\n",
    "# OBS: Informações que não te ajudam, te atrapalham\n",
    "# CustomerID\n",
    "\n",
    "tabela = tabela.drop(columns='CustomerID')\n",
    "display(tabela)\n"
   ]
  },
  {
   "cell_type": "code",
   "execution_count": null,
   "metadata": {},
   "outputs": [],
   "source": [
    "# Passo 3: Corrigir os problemas da base de dados (tratamento de dados)\n",
    "# Valores vazios --> Deletar linhas com valeres vazios\n",
    "\n",
    "display(tabela.info())\n",
    "tabela = tabela.dropna()\n",
    "# NaN --> Not a Number = Valores vazios\n",
    "\n",
    "display(tabela.info())\n"
   ]
  },
  {
   "cell_type": "code",
   "execution_count": null,
   "metadata": {},
   "outputs": [],
   "source": [
    "# Passo 4: Análise inicial -> Quantos clientes cancelaram e qual o % de clientes\n",
    "# Contar na coluna 'Cancelou' os valores\n",
    "\n",
    "display(tabela['cancelou'].value_counts())\n",
    "\n",
    "# display(tabela['assinatura'].value_counts())\n",
    "\n",
    "# display(tabela['tempo_como_cliente'].mean()) --> Média dos valores\n",
    "\n",
    "# Percentual\n",
    "\n",
    "display(tabela['cancelou'].value_counts(normalize=True))\n"
   ]
  },
  {
   "cell_type": "code",
   "execution_count": null,
   "metadata": {},
   "outputs": [],
   "source": [
    "# Passo 5: Análise da causa de cancelamento dos clientes \n",
    "# (Comparar as outras colunas da tabela com a coluna de 'Cancelamento')\n",
    "# Gráficos\n",
    "# OBS: SEMPRE!! --> Etapa 1: Criar o gráfico (grafico = ...); Etapa 2: Exibir o gráfico (grafico.show())\n",
    "\n",
    "import plotly.express as px\n",
    "\n",
    "for coluna in tabela.columns:\n",
    "    grafico = px.histogram(tabela, x=coluna, color='cancelou', text_auto=True)\n",
    "    grafico.show()\n"
   ]
  },
  {
   "cell_type": "code",
   "execution_count": null,
   "metadata": {},
   "outputs": [],
   "source": [
    "# Passo 6: Calcular cancelamentos\n",
    "\n",
    "# Usuários do contrato mensal sempre cancelam\n",
    "    # Evitar o contrato mensal e incentivar (com descontos) os contratos anuais e trimestrais\n",
    "\n",
    "# Todos os usuários que ligaram mais de 4x para o call center, cancelaram o serviço\n",
    "    # Criar um processo para quando um usuário atingir 3 ligações, entrar em alerta vermelho \n",
    "\n",
    "# Usuários que atrasaram o pagamento mais de 20 dias, cancelaram\n",
    "    # Criar um alerta para quando o atraso atingir 15 dias, entrar em cantato com o usuário\n",
    "\n",
    "# duracao_contrato --> Diferente de Mensal\n",
    "# ligacoes_callcenter --> Menor ou igual a 4\n",
    "# dias_atraso --> <= 20 dias\n",
    "\n",
    "tabela = tabela[tabela['duracao_contrato'] != 'Monthly']\n",
    "tabela = tabela[tabela['ligacoes_callcenter']<=4]\n",
    "tabela = tabela[tabela['dias_atraso']<=20]\n",
    "\n",
    "display(tabela['cancelou'].value_counts())\n",
    "display(tabela['cancelou'].value_counts(normalize=True))"
   ]
  }
 ],
 "metadata": {
  "kernelspec": {
   "display_name": "Python 3",
   "language": "python",
   "name": "python3"
  },
  "language_info": {
   "codemirror_mode": {
    "name": "ipython",
    "version": 3
   },
   "file_extension": ".py",
   "mimetype": "text/x-python",
   "name": "python",
   "nbconvert_exporter": "python",
   "pygments_lexer": "ipython3",
   "version": "3.13.2"
  }
 },
 "nbformat": 4,
 "nbformat_minor": 2
}
